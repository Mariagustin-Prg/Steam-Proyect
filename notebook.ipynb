{
 "cells": [
  {
   "cell_type": "code",
   "execution_count": null,
   "metadata": {},
   "outputs": [],
   "source": [
    "import pandas as pd\n",
    "import numpy as np\n",
    "import warnings\n",
    "warnings.filterwarnings('ignore')\n",
    "import matplotlib.pyplot as plt\n",
    "import seaborn as sns\n",
    "sns.set(style= 'darkgrid')\n",
    "import ast\n",
    "import json"
   ]
  },
  {
   "cell_type": "code",
   "execution_count": 3,
   "metadata": {},
   "outputs": [],
   "source": [
    "rows = []\n",
    "\n",
    "with open(\"./data/json/output_steam_games.json\") as f:\n",
    "    for line in f.readlines():\n",
    "        rows.append(json.loads(line))\n",
    "\n",
    "df_games = pd.DataFrame(rows)"
   ]
  },
  {
   "cell_type": "code",
   "execution_count": 4,
   "metadata": {},
   "outputs": [],
   "source": [
    "df_games.to_csv(\"./data/csv/games_steam.csv\", index= False)"
   ]
  },
  {
   "cell_type": "code",
   "execution_count": 8,
   "metadata": {},
   "outputs": [],
   "source": [
    "rows2 = []\n",
    "\n",
    "with open(r\".\\data\\json\\australian_user_reviews.json\", encoding= 'MacRoman') as f:\n",
    "    for line in f.readlines():\n",
    "        rows2.append(ast.literal_eval(line))\n",
    "\n",
    "df_reviews = pd.DataFrame(rows2)"
   ]
  },
  {
   "cell_type": "code",
   "execution_count": 11,
   "metadata": {},
   "outputs": [],
   "source": [
    "df_reviews.to_csv(\"./data/csv/user_review.csv\", index= False)"
   ]
  },
  {
   "cell_type": "code",
   "execution_count": 23,
   "metadata": {},
   "outputs": [],
   "source": [
    "games_w_null = pd.DataFrame([df_games.iloc[i] for i, null in df_games.isnull().sum(axis= 1).items() if null < 8])\n",
    "games_w_null.to_csv(\"./data/csv/games_steam.csv\", index = False)"
   ]
  },
  {
   "cell_type": "code",
   "execution_count": 22,
   "metadata": {},
   "outputs": [],
   "source": [
    "review_w_null = pd.DataFrame([df_reviews.iloc[i] for i, null in df_reviews.isnull().sum(axis=1).items() if null < 1])\n",
    "review_w_null.to_csv(\"./data/csv/user_review.csv\", index=False)"
   ]
  },
  {
   "cell_type": "markdown",
   "metadata": {},
   "source": []
  },
  {
   "cell_type": "code",
   "execution_count": 1,
   "metadata": {},
   "outputs": [],
   "source": [
    "rows = []\n",
    "contador = 1\n",
    "indice = 1"
   ]
  },
  {
   "cell_type": "code",
   "execution_count": 2,
   "metadata": {},
   "outputs": [],
   "source": [
    "with open(\"./data/json/australian_users_items.json\", 'r', encoding= 'UTF-8') as f:\n",
    "    for n, line in enumerate(f.readlines()):\n",
    "        if 22100 * (indice - 1) < n < 22100 * index:\n",
    "            contador += 1\n",
    "            rows.append(ast.literal_eval(line))\n",
    "        elif n == 22100:\n",
    "            contador = 1\n",
    "            df_items = pd.DataFrame(rows)\n",
    "            rows = []\n",
    "            df_items.to_csv(f\"./data/csv/items/item_{indice}.csv\", index= False)\n",
    "            indice += 1\n",
    "            break"
   ]
  }
 ],
 "metadata": {
  "kernelspec": {
   "display_name": "venv",
   "language": "python",
   "name": "python3"
  },
  "language_info": {
   "codemirror_mode": {
    "name": "ipython",
    "version": 3
   },
   "file_extension": ".py",
   "mimetype": "text/x-python",
   "name": "python",
   "nbconvert_exporter": "python",
   "pygments_lexer": "ipython3",
   "version": "3.11.4"
  },
  "orig_nbformat": 4
 },
 "nbformat": 4,
 "nbformat_minor": 2
}
